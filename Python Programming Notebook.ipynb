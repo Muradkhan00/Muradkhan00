{
 "cells": [
  {
   "cell_type": "markdown",
   "metadata": {},
   "source": [
    "Python Programming"
   ]
  },
  {
   "cell_type": "markdown",
   "metadata": {},
   "source": [
    "Lecture Day 5 - Comments, Escape sequence & Print in Python"
   ]
  },
  {
   "cell_type": "markdown",
   "metadata": {},
   "source": [
    "sep operator use for seperate a word between 2 or more words\n",
    "\n",
    "end operator is use for print anything in the end of the line before the next print statement \n",
    "\n",
    "if any double coutation use in the string so u can use \\ front slash  "
   ]
  },
  {
   "cell_type": "code",
   "execution_count": 3,
   "metadata": {},
   "outputs": [
    {
     "name": "stdout",
     "output_type": "stream",
     "text": [
      "Muhammad \"Murad\" Khan\n"
     ]
    }
   ],
   "source": [
    "print('Muhammad \\\"Murad\" Khan')"
   ]
  },
  {
   "cell_type": "code",
   "execution_count": 8,
   "metadata": {},
   "outputs": [
    {
     "name": "stdout",
     "output_type": "stream",
     "text": [
      "Muhammad Murad khan\n"
     ]
    }
   ],
   "source": [
    "print('Muhammad ', 'khan' ,sep = 'Murad ')"
   ]
  },
  {
   "cell_type": "code",
   "execution_count": 7,
   "metadata": {},
   "outputs": [
    {
     "name": "stdout",
     "output_type": "stream",
     "text": [
      "Muhammad Murad Khan"
     ]
    }
   ],
   "source": [
    "print ('Muhammad','Murad ',end = 'Khan')"
   ]
  },
  {
   "cell_type": "markdown",
   "metadata": {},
   "source": [
    "Day 6 - Variables and Data Types\n"
   ]
  },
  {
   "cell_type": "markdown",
   "metadata": {},
   "source": [
    "Variable is like a container that holds data.\n"
   ]
  },
  {
   "cell_type": "code",
   "execution_count": null,
   "metadata": {},
   "outputs": [],
   "source": [
    "a = 1\n",
    "b = True\n",
    "c = \"Harry\"\n",
    "d = None"
   ]
  },
  {
   "cell_type": "markdown",
   "metadata": {},
   "source": [
    "Data type specifies the type of value a variable holds. This is required in programming to do various operations without causing an error.\n"
   ]
  },
  {
   "cell_type": "code",
   "execution_count": 1,
   "metadata": {},
   "outputs": [
    {
     "name": "stdout",
     "output_type": "stream",
     "text": [
      "<class 'int'>\n",
      "<class 'str'>\n"
     ]
    }
   ],
   "source": [
    "a = 1\n",
    "print(type(a))\n",
    "b = \"1\"\n",
    "print(type(b))"
   ]
  },
  {
   "cell_type": "markdown",
   "metadata": {},
   "source": [
    "List\n",
    "\n",
    "A list is an ordered collection of data with elements separated by a comma and enclosed within square brackets. Lists are mutable and can be modified after creation."
   ]
  },
  {
   "cell_type": "code",
   "execution_count": 2,
   "metadata": {},
   "outputs": [
    {
     "name": "stdout",
     "output_type": "stream",
     "text": [
      "[8, 2.3, [-4, 5], ['apple', 'banana']]\n"
     ]
    }
   ],
   "source": [
    "list = [8, 2.3, [-4, 5], [\"apple\", \"banana\"]]\n",
    "print(list)"
   ]
  },
  {
   "cell_type": "markdown",
   "metadata": {},
   "source": [
    "Tuple\n",
    "\n",
    " A tuple is an ordered collection of data with elements separated by a comma and enclosed within parentheses. Tuples are immutable and can not be modified after creation."
   ]
  },
  {
   "cell_type": "code",
   "execution_count": 3,
   "metadata": {},
   "outputs": [
    {
     "name": "stdout",
     "output_type": "stream",
     "text": [
      "(('parrot', 'sparrow'), ('Lion', 'Tiger'))\n"
     ]
    }
   ],
   "source": [
    "tuple = ((\"parrot\", \"sparrow\"), (\"Lion\", \"Tiger\"))\n",
    "print(tuple)"
   ]
  },
  {
   "cell_type": "markdown",
   "metadata": {},
   "source": [
    "Dictionary\n",
    "\n",
    "A dictionary is an unordered collection of data containing a key:value pair. The key:value pairs are enclosed within curly brackets."
   ]
  },
  {
   "cell_type": "code",
   "execution_count": 4,
   "metadata": {},
   "outputs": [
    {
     "name": "stdout",
     "output_type": "stream",
     "text": [
      "{'name': 'Sakshi', 'age': 20, 'canVote': True}\n"
     ]
    }
   ],
   "source": [
    "dict = {\"name\":\"Sakshi\", \"age\":20, \"canVote\":True}\n",
    "print(dict)"
   ]
  },
  {
   "cell_type": "markdown",
   "metadata": {},
   "source": [
    "Overall Lecture Code\n"
   ]
  },
  {
   "cell_type": "code",
   "execution_count": 25,
   "metadata": {},
   "outputs": [
    {
     "name": "stdout",
     "output_type": "stream",
     "text": [
      "(8+2j)\n",
      "True\n",
      "(17+2j)\n",
      "The type of a is  <class 'complex'>\n",
      "The type of b is  <class 'bool'>\n",
      "The type of c is  <class 'str'>\n",
      "[8, 2.3, [-4, 5], ['apple', 'banana']]\n",
      "(('parrot', 'sparrow'), ('Lion', 'Tiger'))\n",
      "{'name': 'Sakshi', 'age': 20, 'canVote': True}\n"
     ]
    }
   ],
   "source": [
    "a = complex(8, 2)\n",
    "b = True\n",
    "c = \"Murad\"\n",
    "d = None\n",
    "print(a)\n",
    "print(b)\n",
    "a1 = 9\n",
    "print(a + a1)\n",
    "print(\"The type of a is \", type(a))\n",
    "print(\"The type of b is \", type(b))\n",
    "print(\"The type of c is \", type(c))\n",
    "\n",
    "\n",
    "list1 = [8, 2.3, [-4, 5], [\"apple\", \"banana\"]]\n",
    "print(list1)\n",
    "\n",
    "tuple1 = ((\"parrot\", \"sparrow\"), (\"Lion\", \"Tiger\"))\n",
    "print(tuple1)\n",
    "\n",
    "dict1 = {\"name\":\"Sakshi\", \"age\":20, \"canVote\":True}\n",
    "print(dict1)"
   ]
  },
  {
   "cell_type": "markdown",
   "metadata": {},
   "source": [
    "Day7 - Exercise 1 - Create a Calculator (1)"
   ]
  },
  {
   "cell_type": "code",
   "execution_count": 26,
   "metadata": {},
   "outputs": [
    {
     "name": "stdout",
     "output_type": "stream",
     "text": [
      "11\n",
      "9\n",
      "90\n",
      "2.5\n",
      "2\n",
      "2\n",
      "16\n"
     ]
    }
   ],
   "source": [
    "print(5+6)#for Addition\n",
    "print(15-6)#for Subtraction\n",
    "print(15*6)#for Multiplication\n",
    "print(15/6)#for Division\n",
    "print(15//6)#for taking the value before point like 2.5 (answer 2)\n",
    "print(5%3)#for Modulus exact same like remander \n",
    "print(2**4)#for Exponential means power of integer "
   ]
  },
  {
   "cell_type": "markdown",
   "metadata": {},
   "source": [
    "Solve Exercise of Calculator \n"
   ]
  },
  {
   "cell_type": "code",
   "execution_count": 27,
   "metadata": {},
   "outputs": [
    {
     "name": "stdout",
     "output_type": "stream",
     "text": [
      "What Function U want to perform \n",
      "\n",
      "    Write \"add\" to Addition \n",
      " \n",
      "    Write \"sub\" to Subtraction \n",
      " \n",
      "    Write \"mul\" to Multiplication \n",
      "\n",
      "    Write \"div\" to Division \n",
      "\n",
      "    Write \"exp\" to Exponential \n",
      "\n",
      "    Write \"mod\" to Modlus \n",
      "\n",
      "Your Entered the wrong word\n",
      "What Function U want to perform \n",
      "\n",
      "    Write \"add\" to Addition \n",
      " \n",
      "    Write \"sub\" to Subtraction \n",
      " \n",
      "    Write \"mul\" to Multiplication \n",
      "\n",
      "    Write \"div\" to Division \n",
      "\n",
      "    Write \"exp\" to Exponential \n",
      "\n",
      "    Write \"mod\" to Modlus \n",
      "\n",
      "Your Entered the wrong word\n",
      "What Function U want to perform \n",
      "\n",
      "    Write \"add\" to Addition \n",
      " \n",
      "    Write \"sub\" to Subtraction \n",
      " \n",
      "    Write \"mul\" to Multiplication \n",
      "\n",
      "    Write \"div\" to Division \n",
      "\n",
      "    Write \"exp\" to Exponential \n",
      "\n",
      "    Write \"mod\" to Modlus \n",
      "\n",
      "Your Entered the wrong word\n",
      "What Function U want to perform \n",
      "\n",
      "    Write \"add\" to Addition \n",
      " \n",
      "    Write \"sub\" to Subtraction \n",
      " \n",
      "    Write \"mul\" to Multiplication \n",
      "\n",
      "    Write \"div\" to Division \n",
      "\n",
      "    Write \"exp\" to Exponential \n",
      "\n",
      "    Write \"mod\" to Modlus \n",
      "\n",
      "Your Entered the wrong word\n",
      "What Function U want to perform \n",
      "\n",
      "    Write \"add\" to Addition \n",
      " \n",
      "    Write \"sub\" to Subtraction \n",
      " \n",
      "    Write \"mul\" to Multiplication \n",
      "\n",
      "    Write \"div\" to Division \n",
      "\n",
      "    Write \"exp\" to Exponential \n",
      "\n",
      "    Write \"mod\" to Modlus \n",
      "\n",
      "Your Entered the wrong word\n",
      "What Function U want to perform \n",
      "\n",
      "    Write \"add\" to Addition \n",
      " \n",
      "    Write \"sub\" to Subtraction \n",
      " \n",
      "    Write \"mul\" to Multiplication \n",
      "\n",
      "    Write \"div\" to Division \n",
      "\n",
      "    Write \"exp\" to Exponential \n",
      "\n",
      "    Write \"mod\" to Modlus \n",
      "\n",
      "Your Entered the wrong word\n",
      "What Function U want to perform \n",
      "\n",
      "    Write \"add\" to Addition \n",
      " \n",
      "    Write \"sub\" to Subtraction \n",
      " \n",
      "    Write \"mul\" to Multiplication \n",
      "\n",
      "    Write \"div\" to Division \n",
      "\n",
      "    Write \"exp\" to Exponential \n",
      "\n",
      "    Write \"mod\" to Modlus \n",
      "\n",
      "Your Entered the wrong word\n",
      "What Function U want to perform \n",
      "\n",
      "    Write \"add\" to Addition \n",
      " \n",
      "    Write \"sub\" to Subtraction \n",
      " \n",
      "    Write \"mul\" to Multiplication \n",
      "\n",
      "    Write \"div\" to Division \n",
      "\n",
      "    Write \"exp\" to Exponential \n",
      "\n",
      "    Write \"mod\" to Modlus \n",
      "\n",
      "Your Entered the wrong word\n",
      "What Function U want to perform \n",
      "\n",
      "    Write \"add\" to Addition \n",
      " \n",
      "    Write \"sub\" to Subtraction \n",
      " \n",
      "    Write \"mul\" to Multiplication \n",
      "\n",
      "    Write \"div\" to Division \n",
      "\n",
      "    Write \"exp\" to Exponential \n",
      "\n",
      "    Write \"mod\" to Modlus \n",
      "\n"
     ]
    }
   ],
   "source": [
    "while True:\n",
    "    print('''What Function U want to perform \\n\n",
    "    Write \\\"add\" to Addition \\n \n",
    "    Write \\\"sub\" to Subtraction \\n \n",
    "    Write \\\"mul\" to Multiplication \\n\n",
    "    Write \\\"div\" to Division \\n\n",
    "    Write \\\"exp\" to Exponential \\n\n",
    "    Write \\\"mod\" to Modlus \\n''')\n",
    "    x = input('Enter the Word to perform specific operation ')\n",
    "    if x == 'add':\n",
    "        print ('Now u entered in the zone to perform specific operation ')\n",
    "        a = int(input('Enter the First value '))\n",
    "        b = int(input('Enter the Second value '))\n",
    "        print('Your Entered Value is ' , a ,'and', b)\n",
    "        print('Your Answer is ' , a + b )\n",
    "    elif x == 'sub':\n",
    "        print ('Now u entered in the zone to perform specific operation ')\n",
    "        a = int(input('Enter the First value '))\n",
    "        b = int(input('Enter the Second value '))\n",
    "        print('Your Entered Value is ' , a ,'and', b)\n",
    "        print('Your Answer is ' , a - b)\n",
    "    elif x == 'mul':\n",
    "        print ('Now u entered in the zone to perform specific operation ')\n",
    "        a = int(input('Enter the First value '))\n",
    "        b = int(input('Enter the Second value '))\n",
    "        print('Your Entered Value is ' , a ,'and', b)\n",
    "        print('Your Answer is ' , a * b)\n",
    "    elif x == 'div':\n",
    "        print ('Now u entered in the zone to perform specific operation ')\n",
    "        a = int(input('Enter the First value '))\n",
    "        b = int(input('Enter the Second value '))\n",
    "        print('Your Entered Value is ' , a ,'and', b)\n",
    "        print('Your Answer is ' , a / b)\n",
    "    elif x == 'exp':\n",
    "        print ('Now u entered in the zone to perform specific operation ')\n",
    "        a = int(input('Enter the First value '))\n",
    "        b = int(input('Enter the Second value '))\n",
    "        print('Your Entered Value is ' , a ,'and', b)\n",
    "        print('Your Answer is ' , a ** b)\n",
    "    elif x == 'mod':\n",
    "        print ('Now u entered in the zone to perform specific operation ')\n",
    "        a = int(input('Enter the First value '))\n",
    "        b = int(input('Enter the Second value '))\n",
    "        print('Your Entered Value is ' , a ,'and', b)\n",
    "        print('Your Answer is ' , a % b)\n",
    "    else :\n",
    "        print('Your Entered the wrong word')\n",
    "    \n"
   ]
  },
  {
   "cell_type": "markdown",
   "metadata": {},
   "source": [
    " Day9 - Typecasting in Python\n",
    " "
   ]
  },
  {
   "cell_type": "markdown",
   "metadata": {},
   "source": [
    "Typecasting\n",
    "\n",
    "The conversion of one data type into the other data type is known as type casting in python or type conversion in python.\n",
    "\n",
    "Python supports a wide variety of functions or methods like: int(), float(), str(), ord(), hex(), oct(), tuple(), set(), list(), dict(), etc. for the type casting in python.\n",
    "\n"
   ]
  },
  {
   "cell_type": "markdown",
   "metadata": {},
   "source": [
    "Two Types of Typecasting:\n",
    "\n"
   ]
  },
  {
   "cell_type": "markdown",
   "metadata": {},
   "source": [
    "Explicit typecasting:\n",
    "\n",
    "The conversion of one data type into another data type, done via developer or programmer's intervention or manually as per the requirement, is known as explicit type conversion.\n",
    "\n",
    "It can be achieved with the help of Python’s built-in type conversion functions such as int(), float(), hex(), oct(), str(), etc ."
   ]
  },
  {
   "cell_type": "code",
   "execution_count": null,
   "metadata": {},
   "outputs": [
    {
     "name": "stdout",
     "output_type": "stream",
     "text": [
      "The Sum of both the numbers is:  22\n"
     ]
    }
   ],
   "source": [
    "string = \"15\"\n",
    "number = 7\n",
    "string_number = int(string) #throws an error if the string is not a valid integer\n",
    "sum= number + string_number\n",
    "print(\"The Sum of both the numbers is: \", sum)"
   ]
  },
  {
   "cell_type": "markdown",
   "metadata": {},
   "source": [
    "Implicit type casting:\n",
    "\n",
    "Data types in Python do not have the same level i.e. ordering of data types is not the same in Python. Some of the data types have higher-order, and some have lower order. While performing any operations on variables with different data types in Python, one of the variable's data types will be changed to the higher data type."
   ]
  },
  {
   "cell_type": "code",
   "execution_count": null,
   "metadata": {},
   "outputs": [
    {
     "name": "stdout",
     "output_type": "stream",
     "text": [
      "<class 'int'>\n",
      "<class 'float'>\n",
      "10.0\n",
      "<class 'float'>\n"
     ]
    }
   ],
   "source": [
    "# Python automatically converts\n",
    "# a to int\n",
    "a = 7\n",
    "print(type(a))\n",
    " \n",
    "# Python automatically converts b to float\n",
    "b = 3.0\n",
    "print(type(b))\n",
    " \n",
    "# Python automatically converts c to float as it is a float addition\n",
    "c = a + b\n",
    "print(c)\n",
    "print(type(c))"
   ]
  },
  {
   "cell_type": "markdown",
   "metadata": {},
   "source": [
    "Day 10 - Taking User Input in python"
   ]
  },
  {
   "cell_type": "markdown",
   "metadata": {},
   "source": [
    "In python, we can take user input directly by using input() function.This input function gives a return value as string/character hence we have to pass that into a variable"
   ]
  },
  {
   "cell_type": "markdown",
   "metadata": {},
   "source": [
    "Syntax:\n"
   ]
  },
  {
   "cell_type": "code",
   "execution_count": null,
   "metadata": {},
   "outputs": [],
   "source": [
    "variable=input()"
   ]
  },
  {
   "cell_type": "code",
   "execution_count": null,
   "metadata": {},
   "outputs": [
    {
     "name": "stdout",
     "output_type": "stream",
     "text": [
      "Murad\n"
     ]
    }
   ],
   "source": [
    "a=input(\"Enter the name: \")\n",
    "print(a)"
   ]
  },
  {
   "cell_type": "markdown",
   "metadata": {},
   "source": [
    "Overall program"
   ]
  },
  {
   "cell_type": "code",
   "execution_count": null,
   "metadata": {},
   "outputs": [
    {
     "name": "stdout",
     "output_type": "stream",
     "text": [
      "My name is Murad\n",
      "1210\n",
      "22\n"
     ]
    }
   ],
   "source": [
    "a = input(\"Enter your name: \")\n",
    "print(\"My name is\", a)\n",
    "\n",
    "x = input(\"Enter first number: \")\n",
    "y = input(\"Enter second number: \")\n",
    "#two values besides each other\n",
    "print(x  + y)\n",
    "#add two values\n",
    "print(int(x) + int(y))"
   ]
  },
  {
   "cell_type": "markdown",
   "metadata": {},
   "source": [
    "Day11 - Strings "
   ]
  },
  {
   "cell_type": "markdown",
   "metadata": {},
   "source": [
    "String\n",
    "\n",
    "In python, anything that you enclose between single or double quotation marks is considered a string. A string is essentially a sequence or array of textual data. Strings are used when working with Unicode characters."
   ]
  },
  {
   "cell_type": "code",
   "execution_count": null,
   "metadata": {},
   "outputs": [
    {
     "name": "stdout",
     "output_type": "stream",
     "text": [
      "Hello, Murad\n"
     ]
    }
   ],
   "source": [
    "name = \"Murad\"\n",
    "print(\"Hello, \" + name)"
   ]
  },
  {
   "cell_type": "code",
   "execution_count": null,
   "metadata": {},
   "outputs": [],
   "source": [
    "print('He said, \"I want to eat an apple\".')\n",
    "#if we want double qoutes(\"\") in the string , so we use single quote ('')outside"
   ]
  },
  {
   "cell_type": "markdown",
   "metadata": {},
   "source": [
    "Multiline Strings\n",
    "\n",
    "If our string has multiple lines, we can create them like this:"
   ]
  },
  {
   "cell_type": "code",
   "execution_count": null,
   "metadata": {},
   "outputs": [
    {
     "name": "stdout",
     "output_type": "stream",
     "text": [
      "Lorem ipsum dolor sit amet,\n",
      "consectetur adipiscing elit,\n",
      "sed do eiusmod tempor incididunt\n",
      "ut labore et dolore magna aliqua.\n"
     ]
    }
   ],
   "source": [
    "a = \"\"\"Lorem ipsum dolor sit amet,\n",
    "consectetur adipiscing elit,\n",
    "sed do eiusmod tempor incididunt\n",
    "ut labore et dolore magna aliqua.\"\"\"\n",
    "print(a)"
   ]
  },
  {
   "cell_type": "markdown",
   "metadata": {},
   "source": [
    "Accessing Characters of a String (Indexing)"
   ]
  },
  {
   "cell_type": "markdown",
   "metadata": {},
   "source": [
    "In Python, string is like an array of characters. We can access parts of string by using its index which starts from 0.\n",
    "Square brackets can be used to access elements of the string."
   ]
  },
  {
   "cell_type": "code",
   "execution_count": 1,
   "metadata": {},
   "outputs": [
    {
     "name": "stdout",
     "output_type": "stream",
     "text": [
      "M\n",
      "u\n"
     ]
    }
   ],
   "source": [
    "name = 'Murad'\n",
    "print(name[0])\n",
    "print(name[1])"
   ]
  },
  {
   "cell_type": "markdown",
   "metadata": {},
   "source": [
    "Looping through the string"
   ]
  },
  {
   "cell_type": "code",
   "execution_count": 16,
   "metadata": {},
   "outputs": [
    {
     "name": "stdout",
     "output_type": "stream",
     "text": [
      "M\n",
      "u\n",
      "r\n",
      "a\n",
      "d\n",
      "\n",
      "\n",
      "M\n",
      "u\n",
      "r\n",
      "a\n",
      "d\n"
     ]
    }
   ],
   "source": [
    "for character in name:\n",
    "    print(character)\n",
    "#Use ay word before in\n",
    "print('\\n')\n",
    "for p in name :\n",
    "    print(p)"
   ]
  },
  {
   "cell_type": "markdown",
   "metadata": {},
   "source": [
    "Overall code"
   ]
  },
  {
   "cell_type": "code",
   "execution_count": 17,
   "metadata": {},
   "outputs": [
    {
     "name": "stdout",
     "output_type": "stream",
     "text": [
      "Hello, Murad\n",
      "He said, \n",
      "Hi Murad\n",
      "hey I am good\n",
      "\"I want to eat an apple\n",
      "M\n",
      "u\n",
      "r\n",
      "a\n",
      "d\n",
      "Lets use a for loop\n",
      "\n",
      "H\n",
      "i\n",
      " \n",
      "M\n",
      "u\n",
      "r\n",
      "a\n",
      "d\n"
     ]
    }
   ],
   "source": [
    "name = \"Murad\"\n",
    "sentence = '''He said, \n",
    "Hi Murad\n",
    "hey I am good\n",
    "\"I want to eat an apple'''\n",
    "\n",
    "sentence1 =  'Hi Murad' \n",
    "print(\"Hello, \" + name)\n",
    "print(sentence) \n",
    "print(name[0])\n",
    "print(name[1])\n",
    "print(name[2])\n",
    "print(name[3])\n",
    "print(name[4])\n",
    "# print(name[5]) # Throws an error\n",
    "print(\"Lets use a for loop\\n\")\n",
    "for character in sentence1:\n",
    "    print(character)"
   ]
  },
  {
   "cell_type": "markdown",
   "metadata": {},
   "source": [
    "Day12 - Strings Slicing "
   ]
  },
  {
   "cell_type": "markdown",
   "metadata": {},
   "source": [
    "Length of a String\n",
    "\n",
    "We can find the length of a string using len() function."
   ]
  },
  {
   "cell_type": "code",
   "execution_count": 18,
   "metadata": {},
   "outputs": [
    {
     "name": "stdout",
     "output_type": "stream",
     "text": [
      "Murad is a 5 letter word.\n"
     ]
    }
   ],
   "source": [
    "fruit = \"Murad\"\n",
    "len = len(fruit)\n",
    "print(\"Murad is a\", len, \"letter word.\")"
   ]
  },
  {
   "cell_type": "code",
   "execution_count": 19,
   "metadata": {},
   "outputs": [
    {
     "name": "stdout",
     "output_type": "stream",
     "text": [
      "Murad is a 5 letter word.\n"
     ]
    }
   ],
   "source": [
    "Fruit = len('Murad')\n",
    "print(\"Murad is a\", Fruit, \"letter word.\")"
   ]
  },
  {
   "cell_type": "markdown",
   "metadata": {},
   "source": [
    "String as an array\n",
    "\n",
    "A string is essentially a sequence of characters also called an array. Thus we can access the elements of this array."
   ]
  },
  {
   "cell_type": "code",
   "execution_count": 20,
   "metadata": {},
   "outputs": [
    {
     "name": "stdout",
     "output_type": "stream",
     "text": [
      "Apple\n",
      "i\n"
     ]
    }
   ],
   "source": [
    "pie = \"ApplePie\"\n",
    "print(pie[:5])\n",
    "print(pie[6])\t#returns character at specified index"
   ]
  },
  {
   "cell_type": "code",
   "execution_count": 32,
   "metadata": {},
   "outputs": [
    {
     "name": "stdout",
     "output_type": "stream",
     "text": [
      "Apple\n",
      "Pie\n",
      "pleP\n",
      "ApplePie\n",
      "\n"
     ]
    }
   ],
   "source": [
    "pie = \"ApplePie\"\n",
    "print(pie[:5])      #Slicing from Start\n",
    "print(pie[5:])      #Slicing till End\n",
    "print(pie[2:6])     #Slicing in between\n",
    "print(pie[-10:])     #Slicing using negative index\n",
    "name = 'murad'\n",
    "print(name[-1:-3]) #nothing show bcz [4:2] it cannot be possible from back to start"
   ]
  },
  {
   "cell_type": "markdown",
   "metadata": {},
   "source": [
    "Overall Code"
   ]
  },
  {
   "cell_type": "code",
   "execution_count": 33,
   "metadata": {},
   "outputs": [
    {
     "name": "stdout",
     "output_type": "stream",
     "text": [
      "5\n",
      "Mang\n",
      "ang\n",
      "Mango\n",
      "Ma\n",
      "Ma\n",
      "\n",
      "ng\n"
     ]
    }
   ],
   "source": [
    "fruit = \"Mango\"\n",
    "mangoLen = len(fruit)\n",
    "print(mangoLen)\n",
    "print(fruit[0:4]) # including 0 but not 4\n",
    "print(fruit[1:4]) # including 1 but not 4\n",
    "print(fruit[:5])\n",
    "print(fruit[0:-3])\n",
    "print(fruit[:len(fruit)-3])\n",
    "print(fruit[-1:len(fruit) - 3]) # (4 : 2) is not making sense \n",
    "print(fruit[-3:-1])\n",
    "\n"
   ]
  },
  {
   "cell_type": "markdown",
   "metadata": {},
   "source": [
    "Day13 - String Methods"
   ]
  }
 ],
 "metadata": {
  "kernelspec": {
   "display_name": "Python 3",
   "language": "python",
   "name": "python3"
  },
  "language_info": {
   "codemirror_mode": {
    "name": "ipython",
    "version": 3
   },
   "file_extension": ".py",
   "mimetype": "text/x-python",
   "name": "python",
   "nbconvert_exporter": "python",
   "pygments_lexer": "ipython3",
   "version": "3.12.4"
  }
 },
 "nbformat": 4,
 "nbformat_minor": 2
}
